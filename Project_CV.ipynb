{
 "cells": [
  {
   "cell_type": "markdown",
   "id": "6f27171b-f3a2-4680-9cac-141b4bbea622",
   "metadata": {},
   "source": [
    "### CV - Coefficient of Variance"
   ]
  },
  {
   "cell_type": "markdown",
   "id": "19049142-d7b6-41a8-9b8a-22fb075a0070",
   "metadata": {},
   "source": [
    "#### In this exercise I will calculate the CV for each feature in our dataset"
   ]
  },
  {
   "cell_type": "code",
   "execution_count": 1,
   "id": "f99013ce-2460-4871-a609-9370370700d8",
   "metadata": {},
   "outputs": [],
   "source": [
    "import pandas as pd\n",
    "import numpy as np\n",
    "import matplotlib.pyplot as plt"
   ]
  },
  {
   "cell_type": "code",
   "execution_count": 2,
   "id": "8420e594-77ce-41c0-876d-de5bd9da2a41",
   "metadata": {},
   "outputs": [],
   "source": [
    "df = pd.read_csv('water_potability_AdityaKadiwal.csv')"
   ]
  },
  {
   "cell_type": "code",
   "execution_count": 3,
   "id": "981419de-abfe-43f1-9174-ea13b3399ca4",
   "metadata": {},
   "outputs": [
    {
     "name": "stdout",
     "output_type": "stream",
     "text": [
      "Index(['ph', 'Hardness', 'Solids', 'Chloramines', 'Sulfate', 'Conductivity',\n",
      "       'Organic_carbon', 'Trihalomethanes', 'Turbidity', 'Potability'],\n",
      "      dtype='object')\n"
     ]
    }
   ],
   "source": [
    "print(df.columns)"
   ]
  },
  {
   "cell_type": "code",
   "execution_count": 4,
   "id": "4a59600d-7570-4d65-9019-5b012e12674f",
   "metadata": {},
   "outputs": [],
   "source": [
    "df=df.drop(columns=['Potability'])"
   ]
  },
  {
   "cell_type": "code",
   "execution_count": 5,
   "id": "119aa0d2-9caa-4c02-b05a-e515528cd830",
   "metadata": {},
   "outputs": [],
   "source": [
    "fillWithMean = df.apply(lambda col: col.fillna(col.mean()), axis=0)"
   ]
  },
  {
   "cell_type": "code",
   "execution_count": 6,
   "id": "58356f78-9c71-4f48-afeb-1048452277be",
   "metadata": {},
   "outputs": [],
   "source": [
    "cv = lambda x: np.std(x, ddof=1) / np.mean(x) * 100"
   ]
  },
  {
   "cell_type": "code",
   "execution_count": 7,
   "id": "48c8c619-0fc7-4aee-8c58-3191be831008",
   "metadata": {},
   "outputs": [
    {
     "name": "stdout",
     "output_type": "stream",
     "text": [
      "Solids             39.831625\n",
      "Trihalomethanes    23.751147\n",
      "Organic_carbon     23.158340\n",
      "Chloramines        22.227231\n",
      "ph                 20.759760\n",
      "Turbidity          19.672913\n",
      "Conductivity       18.963654\n",
      "Hardness           16.743823\n",
      "Sulfate            10.828411\n",
      "dtype: float64\n"
     ]
    }
   ],
   "source": [
    "print(fillWithMean.apply(cv).sort_values(ascending=False))"
   ]
  },
  {
   "cell_type": "markdown",
   "id": "8feb7309-44cb-41d4-b08b-f791abad63ab",
   "metadata": {},
   "source": [
    "### Coefficient Variants of Solids is the higheset at nearly 40%.  \n",
    "### However, all the other feature's CV are from 10-23%.  \n",
    "### Meaning eliminating any one would not likely be effective for predicting the potability of water."
   ]
  }
 ],
 "metadata": {
  "kernelspec": {
   "display_name": "Python 3 (ipykernel)",
   "language": "python",
   "name": "python3"
  },
  "language_info": {
   "codemirror_mode": {
    "name": "ipython",
    "version": 3
   },
   "file_extension": ".py",
   "mimetype": "text/x-python",
   "name": "python",
   "nbconvert_exporter": "python",
   "pygments_lexer": "ipython3",
   "version": "3.11.6"
  }
 },
 "nbformat": 4,
 "nbformat_minor": 5
}
