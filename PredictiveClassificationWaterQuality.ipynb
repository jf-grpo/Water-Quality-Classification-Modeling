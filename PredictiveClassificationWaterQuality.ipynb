{
 "cells": [
  {
   "cell_type": "markdown",
   "id": "81b687ba-07d3-46c0-9253-2ef2606665a7",
   "metadata": {},
   "source": [
    "## Predictive Classification Modeling for Water Quality  \n",
    "- Potabile (Safe) vs Not Potabile (Unsafe).\n",
    "\n",
    "I selected this topic and dataset as a final (Portfolio) project for\n",
    "Codecademy's learning path: *Machine Learning/AI Engineer*  "
   ]
  },
  {
   "cell_type": "markdown",
   "id": "37c2c92a-ded0-4c5f-a61b-7fcc0c2394b5",
   "metadata": {},
   "source": [
    "### In so doing I will follow the ML (Machine Learning) workflow taught therein: \n",
    "1. ETL (Extract, Transform and Load) data\n",
    "2. Data Cleaning\n",
    "3. Train-Test-Validation Split\n",
    "4. EDA (Exploratory Data Analysis)\n",
    "5. Feature Engineering (normalization, removing autocorrelations, discretization, etc.)\n",
    "6. Model Selection and Implementation\n",
    "7. Model Evaluation\n",
    "8. Hyperparameter Tuning\n",
    "9. Model Validation\n",
    "10. Build ML pipeline!"
   ]
  },
  {
   "cell_type": "markdown",
   "id": "a7a5cb96-0989-4b25-ba8c-444e8d5d5328",
   "metadata": {},
   "source": [
    "Please refer to my [github repository](https://github.com/jf-grpo/Water-Quality-Classification-Modeling) for a complete look at all Jupyter Notebooks I developed during this project.  \n",
    "Examples Include:  \n",
    "- Feature Engineering (Correllation and Variance)\n",
    "- EDA\n",
    "- Model Selection, Evaluation, and Implementation\n",
    "- Learning notes and insights for each step."
   ]
  },
  {
   "cell_type": "markdown",
   "id": "fe90d8c5-7fd2-4d8c-b740-b95600118a76",
   "metadata": {},
   "source": [
    "### Steps"
   ]
  },
  {
   "cell_type": "markdown",
   "id": "47c9041c-0f7b-4af5-afc0-4da8b20a8133",
   "metadata": {},
   "source": [
    "- Import required libraries/packages"
   ]
  },
  {
   "cell_type": "code",
   "execution_count": 1,
   "id": "2bfd3858-eb7e-4ba6-9e9f-c5be4006d842",
   "metadata": {},
   "outputs": [],
   "source": [
    "import numpy as np\n",
    "import pandas as pd\n",
    "import matplotlib.pyplot as plt\n",
    "from sklearn.metrics import confusion_matrix, accuracy_score, precision_score, recall_score, f1_score, make_scorer\n",
    "from sklearn.impute import SimpleImputer\n",
    "from sklearn.preprocessing import OneHotEncoder, StandardScaler\n",
    "from sklearn.tree import DecisionTreeClassifier\n",
    "from sklearn.ensemble import RandomForestClassifier\n",
    "from sklearn.neighbors import KNeighborsClassifier\n",
    "from sklearn.pipeline import Pipeline\n",
    "from sklearn.compose import ColumnTransformer\n",
    "from sklearn.svm import SVC\n",
    "from sklearn.metrics import classification_report\n",
    "from sklearn.model_selection import GridSearchCV, train_test_split\n",
    "from sklearn.pipeline import Pipeline"
   ]
  },
  {
   "cell_type": "markdown",
   "id": "8f2164ab-2945-4a47-972b-39547d025969",
   "metadata": {},
   "source": [
    "- Load Dataset\n",
    "- Separate features, target (X, y)\n",
    "- Split into Training & testing data"
   ]
  },
  {
   "cell_type": "code",
   "execution_count": 2,
   "id": "07a1eead-60bc-4246-88d4-d8434a994b6f",
   "metadata": {},
   "outputs": [],
   "source": [
    "df = pd.read_csv('water_potability_AdityaKadiwal.csv')\n",
    "# fillWithMean = df.apply(lambda col: col.fillna(col.mean()), axis=0)\n",
    "\n",
    "X = df.drop(columns=['Potability'])\n",
    "y = df['Potability']\n",
    "\n",
    "X_train, X_test, y_train, y_test = train_test_split(\n",
    "    X,  \n",
    "    y, \n",
    "    test_size=0.25,\n",
    "    random_state=0)"
   ]
  },
  {
   "cell_type": "markdown",
   "id": "a70e40cd-4101-40b3-9053-8f224a445143",
   "metadata": {},
   "source": [
    "##### This dataset is only numerical so some of the following is not necessary.  \n",
    "##### But, I've added it to prepare a pipeline should you want to run new datasets through.  \n",
    "- define variables that separate Numerical & Categorical data types.\n",
    "- define variables to store impuned data.\n",
    "- here we use \"strategy='mean'\" to fill NaN (nulls) with the column average & then Standardize numerical data.\n",
    "- for categorical data we choose \"strategy='most_frequent' to fill NaN (nulls) with the most frequently occuring value.\n",
    "  then use [One Hot Encoding](https://scikit-learn.org/stable/modules/generated/sklearn.preprocessing.OneHotEncoder.html).\n",
    "- Finally, we use [ColumnTransformer](https://scikit-learn.org/stable/modules/generated/sklearn.compose.ColumnTransformer.html) to handle and store all of \n",
    "  this in the variable 'preprocess'."
   ]
  },
  {
   "cell_type": "markdown",
   "id": "4d31d49f-630e-4ed9-baae-5ae24fecca02",
   "metadata": {},
   "source": [
    "##### Note: \n",
    "I researched whether or not 'Standardizing the Target' was necessary. I found many opinions on this but no consensus.  \n",
    "Most of those in favor cited the effects of very large target ranges. Here we only have 0 and 1. So, I decided NOT to apply  \n",
    "standardization to the target. I did some during testing of each model and it did not have any significant effect on the output."
   ]
  },
  {
   "cell_type": "code",
   "execution_count": 3,
   "id": "55ae4f57-4c63-4126-a830-0db5ec734bf6",
   "metadata": {},
   "outputs": [],
   "source": [
    "# Assuming X and y are your features and target\n",
    "num_cols = X.select_dtypes(include=np.number).columns\n",
    "cat_cols = X.select_dtypes(include=['object']).columns\n",
    "\n",
    "# Define preprocessing steps\n",
    "num_vals = Pipeline([(\"imputer\", SimpleImputer(strategy='mean')), (\"scale\", StandardScaler())])\n",
    "cat_vals = Pipeline([(\"imputer\", SimpleImputer(strategy='most_frequent')), (\"ohe\", OneHotEncoder(sparse_output=False, drop='first'))])\n",
    "\n",
    "# Create column transformer that will preprocess the numerical and categorical features separately\n",
    "preprocess = ColumnTransformer(\n",
    "    transformers=[\n",
    "        (\"cat_preprocess\", cat_vals, cat_cols),\n",
    "        (\"num_preprocess\", num_vals, num_cols)\n",
    "    ]\n",
    ")"
   ]
  },
  {
   "cell_type": "markdown",
   "id": "03175927-99e0-4c9b-913f-f46ab0a0d0b8",
   "metadata": {},
   "source": [
    "- Define variables for each model selected and use [Pipeline](https://scikit-learn.org/stable/modules/generated/sklearn.pipeline.Pipeline.html#pipeline) to \n",
    "  add the above preprocess to each."
   ]
  },
  {
   "cell_type": "code",
   "execution_count": 4,
   "id": "8c10ad45-c6bd-4d84-abb5-f7bfd9a7503d",
   "metadata": {},
   "outputs": [],
   "source": [
    "# Define pipelines for each classifier\n",
    "svc_pipeline = Pipeline([\n",
    "    ('preprocess', preprocess),\n",
    "    ('svc', SVC())\n",
    "])\n",
    "\n",
    "knn_pipeline = Pipeline([\n",
    "    ('preprocess', preprocess),\n",
    "    ('knn', KNeighborsClassifier())\n",
    "])\n",
    "\n",
    "tree_pipeline = Pipeline([\n",
    "    ('preprocess', preprocess),\n",
    "    ('tree', DecisionTreeClassifier())\n",
    "])\n",
    "random_forest = Pipeline([\n",
    "    ('preprocess', preprocess),\n",
    "    ('randomforest', RandomForestClassifier())\n",
    "])"
   ]
  },
  {
   "cell_type": "markdown",
   "id": "d2a9e003-15fd-4aa7-82a3-5b4969445405",
   "metadata": {},
   "source": [
    "- Select hyperparemeters to tune for each model and store in the 'param_grid' variable for use in [GridSearchCV](https://scikit-learn.org/stable/modules/generated/sklearn.model_selection.GridSearchCV.html#gridsearchcv)."
   ]
  },
  {
   "cell_type": "code",
   "execution_count": 5,
   "id": "7189dd6b-498d-4db4-972f-1eb3a33f8abb",
   "metadata": {},
   "outputs": [],
   "source": [
    "# Parameter grid for GridSearchCV\n",
    "param_grid = [\n",
    "    {\n",
    "        'svc__C': [0.1, 1, 10]\n",
    "    },\n",
    "    {\n",
    "        'knn__n_neighbors': [3, 5, 7]\n",
    "    },\n",
    "    {\n",
    "        'tree__max_depth': [2, 3, 4, 6, 8]\n",
    "    },\n",
    "    {\n",
    "        'randomforest__max_depth': [2, 3, 4, 6, 8]\n",
    "    }\n",
    "    \n",
    "]"
   ]
  },
  {
   "cell_type": "markdown",
   "id": "174c5304-c0b1-4121-b665-763ca0db504f",
   "metadata": {},
   "source": [
    "##### In this code:\n",
    "\n",
    "- Custom Scorers: The make_scorer function is used to create custom scoring functions for accuracy, precision, recall, and F1 score.\n",
    "- Scoring Parameter: These custom scorers are passed to the scoring parameter of GridSearchCV in a dictionary.\n",
    "- Refit Parameter: The refit parameter is set to 'accuracy' to refit the model based on accuracy.\n",
    "- Cross-validation Results: The cv_results_ attribute of GridSearchCV is used to extract the mean scores for each metric.\n",
    "- This approach allows you to evaluate each model fed to GridSearchCV based on multiple metrics."
   ]
  },
  {
   "cell_type": "markdown",
   "id": "ee6b9842-1ee8-4824-a31c-3e02d6b4cfad",
   "metadata": {},
   "source": [
    "- Define 'scoring' variable with desired scores for the selected models. Use [make_scorer](https://scikit-learn.org/stable/modules/generated/sklearn.metrics.make_scorer.html#make-scorer) method."
   ]
  },
  {
   "cell_type": "code",
   "execution_count": 6,
   "id": "31b76406-1843-466b-82c9-c2143e120adc",
   "metadata": {},
   "outputs": [],
   "source": [
    "# Define custom scorers\n",
    "scoring = {\n",
    "    'accuracy': make_scorer(accuracy_score),\n",
    "    'precision': make_scorer(precision_score, average='weighted', zero_division=0),\n",
    "    'recall': make_scorer(recall_score, average='weighted', zero_division=0),\n",
    "    'f1': make_scorer(f1_score, average='weighted', zero_division=0)\n",
    "}"
   ]
  },
  {
   "cell_type": "markdown",
   "id": "4dda1073-5842-4b22-9650-9c85e02c2f58",
   "metadata": {},
   "source": [
    "- Store pipeline variables in a list. *'for loop'* prep.\n",
    "- Store names for Models in a list. *'for loop'* prep."
   ]
  },
  {
   "cell_type": "code",
   "execution_count": 7,
   "id": "ca1d52d6-d150-4ebf-a8eb-1a01dcaedb12",
   "metadata": {},
   "outputs": [],
   "source": [
    "# List of pipelines & list for Model names\n",
    "pipelines = [svc_pipeline, knn_pipeline, tree_pipeline, random_forest]\n",
    "pipelines_names = ['SVC','KNeighborsClassifier','DecisionTreeClassifier','RandomForestClassifier']"
   ]
  },
  {
   "cell_type": "markdown",
   "id": "173d3200-a67a-4f89-8ba8-872c22659048",
   "metadata": {},
   "source": [
    "- Run a for loop to process each model storing the results in a list.\n",
    "- We'll leverage the 'results_list' variable to place results in a DataFrame & Visualizations."
   ]
  },
  {
   "cell_type": "code",
   "execution_count": 8,
   "id": "20a7a08a-bc85-4cc8-bf37-8bd5dcff3fe8",
   "metadata": {},
   "outputs": [
    {
     "data": {
      "text/html": [
       "<div>\n",
       "<style scoped>\n",
       "    .dataframe tbody tr th:only-of-type {\n",
       "        vertical-align: middle;\n",
       "    }\n",
       "\n",
       "    .dataframe tbody tr th {\n",
       "        vertical-align: top;\n",
       "    }\n",
       "\n",
       "    .dataframe thead th {\n",
       "        text-align: right;\n",
       "    }\n",
       "</style>\n",
       "<table border=\"1\" class=\"dataframe\">\n",
       "  <thead>\n",
       "    <tr style=\"text-align: right;\">\n",
       "      <th></th>\n",
       "      <th>Best Parameters</th>\n",
       "      <th>Best Accuracy</th>\n",
       "      <th>Best Precision</th>\n",
       "      <th>Best Recall</th>\n",
       "      <th>Best F1</th>\n",
       "    </tr>\n",
       "    <tr>\n",
       "      <th>Model</th>\n",
       "      <th></th>\n",
       "      <th></th>\n",
       "      <th></th>\n",
       "      <th></th>\n",
       "      <th></th>\n",
       "    </tr>\n",
       "  </thead>\n",
       "  <tbody>\n",
       "    <tr>\n",
       "      <th>SVC</th>\n",
       "      <td>{'svc__C': 1}</td>\n",
       "      <td>0.674803</td>\n",
       "      <td>0.686933</td>\n",
       "      <td>0.674803</td>\n",
       "      <td>0.630711</td>\n",
       "    </tr>\n",
       "    <tr>\n",
       "      <th>KNeighborsClassifier</th>\n",
       "      <td>{'knn__n_neighbors': 7}</td>\n",
       "      <td>0.632468</td>\n",
       "      <td>0.617112</td>\n",
       "      <td>0.632468</td>\n",
       "      <td>0.611435</td>\n",
       "    </tr>\n",
       "    <tr>\n",
       "      <th>DecisionTreeClassifier</th>\n",
       "      <td>{'tree__max_depth': 8}</td>\n",
       "      <td>0.641423</td>\n",
       "      <td>0.630559</td>\n",
       "      <td>0.641423</td>\n",
       "      <td>0.593447</td>\n",
       "    </tr>\n",
       "    <tr>\n",
       "      <th>RandomForestClassifier</th>\n",
       "      <td>{'randomforest__max_depth': 8}</td>\n",
       "      <td>0.649972</td>\n",
       "      <td>0.659709</td>\n",
       "      <td>0.649972</td>\n",
       "      <td>0.587088</td>\n",
       "    </tr>\n",
       "  </tbody>\n",
       "</table>\n",
       "</div>"
      ],
      "text/plain": [
       "                                       Best Parameters  Best Accuracy  \\\n",
       "Model                                                                   \n",
       "SVC                                      {'svc__C': 1}       0.674803   \n",
       "KNeighborsClassifier           {'knn__n_neighbors': 7}       0.632468   \n",
       "DecisionTreeClassifier          {'tree__max_depth': 8}       0.641423   \n",
       "RandomForestClassifier  {'randomforest__max_depth': 8}       0.649972   \n",
       "\n",
       "                        Best Precision  Best Recall   Best F1  \n",
       "Model                                                          \n",
       "SVC                           0.686933     0.674803  0.630711  \n",
       "KNeighborsClassifier          0.617112     0.632468  0.611435  \n",
       "DecisionTreeClassifier        0.630559     0.641423  0.593447  \n",
       "RandomForestClassifier        0.659709     0.649972  0.587088  "
      ]
     },
     "execution_count": 8,
     "metadata": {},
     "output_type": "execute_result"
    }
   ],
   "source": [
    "# List to store results\n",
    "results_list = []\n",
    "\n",
    "# Perform GridSearchCV for each pipeline\n",
    "for pipeline, params, name in zip(pipelines, param_grid, pipelines_names):\n",
    "    grid_search = GridSearchCV(pipeline, params, cv=5, scoring=scoring, refit='accuracy', return_train_score=True)\n",
    "    grid_search.fit(X_train, y_train)\n",
    " \n",
    "    # Extract cross-validation results for the best parameters\n",
    "    # Extract the index for best parameters\n",
    "    best_index = grid_search.best_index_\n",
    "    results = grid_search.cv_results_\n",
    "    \n",
    "    # Append the results to the list\n",
    "    results_list.append({\n",
    "        'Model': name,\n",
    "        'Best Parameters': grid_search.best_params_,\n",
    "        'Best Accuracy': results['mean_test_accuracy'][best_index],\n",
    "        'Best Precision': results['mean_test_precision'][best_index],\n",
    "        'Best Recall': results['mean_test_recall'][best_index],\n",
    "        'Best F1': results['mean_test_f1'][best_index]\n",
    "    })\n",
    "\n",
    "# Convert the results list to a pandas DataFrame\n",
    "results_df = pd.DataFrame(results_list)\n",
    "\n",
    "#results_df\n",
    "# Set the 'Model' column as the index\n",
    "results_df.set_index('Model', inplace=True)\n",
    "\n",
    "results_df"
   ]
  },
  {
   "cell_type": "markdown",
   "id": "cea663eb-96b0-4b35-85c0-58cb28a3358b",
   "metadata": {},
   "source": [
    "- Use matplotlib to plot 'results_df' as a horizontal bar graph"
   ]
  },
  {
   "cell_type": "code",
   "execution_count": 9,
   "id": "a741d8dc-3339-4aba-88bf-191b5c54fcf3",
   "metadata": {},
   "outputs": [
    {
     "data": {
      "image/png": "[encoded data removed]",
      "text/plain": [
       "<Figure size 1400x600 with 1 Axes>"
      ]
     },
     "metadata": {},
     "output_type": "display_data"
    }
   ],
   "source": [
    "# Plotting the DataFrame as a horizontal bar graph with an increased figure size\n",
    "fig, ax = plt.subplots(figsize=(14, 6))\n",
    "results_df.plot.barh(ax=ax)\n",
    "\n",
    "# Customize the legend\n",
    "ax.legend(\n",
    "    ncol=len(results_df.columns), \n",
    "    bbox_to_anchor=(0, 1), \n",
    "    loc='lower left', \n",
    "    prop={'size': 10}\n",
    ")\n",
    "\n",
    "# Apply tight layout with adjusted parameters\n",
    "plt.tight_layout(pad=3.0, w_pad=1.0, h_pad=1.0)\n",
    "plt.show()"
   ]
  },
  {
   "cell_type": "markdown",
   "id": "75e0011a-e444-4397-bd32-c6ed757e3830",
   "metadata": {},
   "source": [
    "### Resources, Kudos, and Credits \n",
    "#### Big Thank you to [Aditya Kadiwal](https://www.kaggle.com/adityakadiwal) for providing this great [dataset](https://www.kaggle.com/datasets/adityakadiwal/water-potability)!!!  \n",
    "##### This is not an exhaustive list but the *highlights* of articles which assisted me in completing this project.\n",
    "- [Choosing the right estimator](https://scikit-learn.org/stable/tutorial/machine_learning_map/index.html) - Thanks to all the great contributers of scikit-learn!\n",
    "- [Fatih Karabiber - Binary Classification](https://www.learndatasci.com/glossary/binary-classification/) - Great Article. Clear and concise.\n",
    "- Standardize the Traget (DO or DO NOT).   \n",
    "[Binary classification with regression analysis](https://stats.stackexchange.com/questions/111467/is-it-necessary-to-scale-the-target-value-in-addition-to-scaling-features-for-re) - Although this thread is about regression and not classification, I found the variety of opinions interesting. After reading them I decided NOT to standardize the target.  \n",
    "It does not seem necessary given we are only dealing with 0 and 1.\n",
    "- [Enjoy Machine Learning - ML:101: Feature Selection with SelectKBest](https://enjoymachinelearning.com/blog/feature-selection-selectkbest-sklearn/)\n",
    "- [Pierian Training](https://pieriantraining.com/machine-learning-in-python-support-vector-machine-classification/) - Article & sample code for SVC. Well written.\n",
    "- [Data TechNotes](https://www.datatechnotes.com/2020/06/classification-example-with-svc-in-python.html) - Another really great article & code sample for SVC.\n",
    "- [Confusion Matrix: How To Use It & Interpret Results [Examples]](https://www.v7labs.com/blog/confusion-matrix-guide) - Nice thorough article on the Confusion Matrix."
   ]
  },
  {
   "cell_type": "markdown",
   "id": "146cb890-cdb7-4f92-8fb4-1b6779ba50a9",
   "metadata": {},
   "source": [
    "### Conclusions, thoughts, findings  \n",
    "I learned vastly more about each model while conducting this project.  In particular about their parameters and how to access them.  \n",
    "The course work in Codecademy provided a solid baseline but you can never fully understand the concepts until applying them on a self-directed project.  \n",
    "Conducting each model individually was far easier than putting them all into a pipeline. When building the pipeline, the most difficult piece is pulling out the parameters for each model. There is so much abstraction involved in the pipeline it makes it very difficult to understand how to access results.  \n",
    "While getting started I found the biggest help (guide) from scikit-learn's 'Choosing the right estimator' cheetsheat. Otherwise I would have gone on indefinitley testing various models.  \n",
    "In the end there was not much variation in the predictive abilities. SVC was slightly better than the other models. But, I think the dataset is just to small to make more accurate predictions.  \n",
    "If I were to continue with this particular dataset, I would try the pipeline on a smaller set of features. I'm not certain it will make any better predictions. If you examine my 'FeatureEngineering' notebook, you'll find that each FE approach favored different metrics. I ended up just using them all.\n",
    "One could shorten this code by using a 'Search Space' concept. But I had many errors trying to leverage that approach. I ended up just using the options of the GridSearchCV.  \n",
    "\n",
    "###  Thanks again to all the aforementioned resource contributors. The Data Community is truly AWESOME!"
   ]
  },
  {
   "cell_type": "code",
   "execution_count": null,
   "id": "b0704790-e278-4be1-be74-e4cadbf4fdb0",
   "metadata": {},
   "outputs": [],
   "source": []
  }
 ],
 "metadata": {
  "kernelspec": {
   "display_name": "Python 3 (ipykernel)",
   "language": "python",
   "name": "python3"
  },
  "language_info": {
   "codemirror_mode": {
    "name": "ipython",
    "version": 3
   },
   "file_extension": ".py",
   "mimetype": "text/x-python",
   "name": "python",
   "nbconvert_exporter": "python",
   "pygments_lexer": "ipython3",
   "version": "3.11.6"
  }
 },
 "nbformat": 4,
 "nbformat_minor": 5
}
