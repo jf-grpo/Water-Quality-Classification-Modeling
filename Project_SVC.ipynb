{
 "cells": [
  {
   "cell_type": "markdown",
   "id": "0ff6b242-34cf-49d8-810c-e455db94bba7",
   "metadata": {},
   "source": [
    "## Support Vector Classification  \n",
    "#### Resources  \n",
    "- [Pierian Training](https://pieriantraining.com/machine-learning-in-python-support-vector-machine-classification/)\n",
    "- [Data TechNotes](https://www.datatechnotes.com/2020/06/classification-example-with-svc-in-python.html)"
   ]
  },
  {
   "cell_type": "code",
   "execution_count": 1,
   "id": "86f8412e-4354-4f30-971a-99a69905e313",
   "metadata": {},
   "outputs": [],
   "source": [
    "import pandas as pd\n",
    "import numpy as np"
   ]
  },
  {
   "cell_type": "code",
   "execution_count": 2,
   "id": "86019647-ccc3-4db2-ad55-ca229b4c161f",
   "metadata": {},
   "outputs": [],
   "source": [
    "from sklearn.svm import SVC\n",
    "from sklearn.model_selection import train_test_split\n",
    "from sklearn.model_selection import cross_val_score\n",
    "from sklearn.metrics import confusion_matrix\n",
    "from sklearn.metrics import classification_report"
   ]
  },
  {
   "cell_type": "code",
   "execution_count": 3,
   "id": "ee251a11-1d48-43d8-a26c-4984a539ecba",
   "metadata": {},
   "outputs": [],
   "source": [
    "df = pd.read_csv('water_potability_AdityaKadiwal.csv')"
   ]
  },
  {
   "cell_type": "code",
   "execution_count": 4,
   "id": "40867483-bc8d-424e-9f31-cd386fce0b11",
   "metadata": {},
   "outputs": [],
   "source": [
    "# remove_null = df.dropna()\n",
    "fillWithMean = df.apply(lambda col: col.fillna(col.mean()), axis=0)\n",
    "\n",
    "X = fillWithMean.drop(columns=['Potability'])\n",
    "y = fillWithMean['Potability']\n",
    "\n",
    "X_train, X_test, y_train, y_test = train_test_split(\n",
    "    X,  \n",
    "    y, \n",
    "    test_size=1/3,\n",
    "    random_state=0)"
   ]
  },
  {
   "cell_type": "code",
   "execution_count": 5,
   "id": "4d0781c1-4b60-4c09-b79b-5117f074da5a",
   "metadata": {},
   "outputs": [],
   "source": [
    "# X = remove_null.drop(columns=['Potability'])\n",
    "# y = remove_null['Potability']"
   ]
  },
  {
   "cell_type": "code",
   "execution_count": 6,
   "id": "9e70978b-c4f4-44e0-a850-eb7654584932",
   "metadata": {},
   "outputs": [],
   "source": [
    "# X_train, X_test, y_train, y_test = train_test_split(X, y, test_size=0.2, random_state=42)"
   ]
  },
  {
   "cell_type": "code",
   "execution_count": 7,
   "id": "2df0dddc-b8eb-4fc4-8a79-29659a208c3f",
   "metadata": {},
   "outputs": [],
   "source": [
    "from sklearn.preprocessing import StandardScaler\n",
    "sc = StandardScaler()\n",
    "X_train = sc.fit_transform(X_train)\n",
    "X_test = sc.transform(X_test)"
   ]
  },
  {
   "cell_type": "code",
   "execution_count": 8,
   "id": "53cc5ab8-8256-4f31-8df1-69d1ef7a1417",
   "metadata": {},
   "outputs": [],
   "source": [
    "svc = SVC()"
   ]
  },
  {
   "cell_type": "code",
   "execution_count": 9,
   "id": "7e47055e-a29e-48bb-a1de-6b70f20f5fe6",
   "metadata": {},
   "outputs": [
    {
     "name": "stdout",
     "output_type": "stream",
     "text": [
      "Score:  0.733058608058608\n",
      "Test Score:  0.6785714285714286\n"
     ]
    }
   ],
   "source": [
    "svc.fit(X_train, y_train)\n",
    "score = svc.score(X_train, y_train)\n",
    "test_score = svc.score(X_test, y_test)\n",
    "print(\"Score: \", score)\n",
    "print(\"Test Score: \", test_score)"
   ]
  },
  {
   "cell_type": "code",
   "execution_count": 10,
   "id": "639deeee-c2dd-48c9-bffa-1670da66ffd3",
   "metadata": {},
   "outputs": [
    {
     "name": "stdout",
     "output_type": "stream",
     "text": [
      "CV average score: 0.67\n"
     ]
    }
   ],
   "source": [
    "cv_scores = cross_val_score(svc, X_train, y_train)\n",
    "print(\"CV average score: %.2f\" % cv_scores.mean())"
   ]
  },
  {
   "cell_type": "code",
   "execution_count": 11,
   "id": "f455e979-a559-455f-a5c6-f040883e6f08",
   "metadata": {},
   "outputs": [],
   "source": [
    "y_pred = svc.predict(X_test)"
   ]
  },
  {
   "cell_type": "code",
   "execution_count": 12,
   "id": "583062ac-30df-4286-b4dc-f61864d19691",
   "metadata": {},
   "outputs": [
    {
     "name": "stdout",
     "output_type": "stream",
     "text": [
      "[[625  57]\n",
      " [294 116]]\n"
     ]
    }
   ],
   "source": [
    "cm = confusion_matrix(y_test, y_pred)\n",
    "print(cm)"
   ]
  },
  {
   "cell_type": "markdown",
   "id": "b79e7abc-e7c2-4f3a-89a6-f450773cc82b",
   "metadata": {},
   "source": [
    "### Understanding the confusion matrix  ^^\n",
    "[Confusion Matrix: How To Use It & Interpret Results [Examples]](https://www.v7labs.com/blog/confusion-matrix-guide)"
   ]
  },
  {
   "cell_type": "code",
   "execution_count": 13,
   "id": "020f5873-5a31-44ba-9553-e56d010388f0",
   "metadata": {},
   "outputs": [
    {
     "name": "stdout",
     "output_type": "stream",
     "text": [
      "              precision    recall  f1-score   support\n",
      "\n",
      "           0       0.68      0.92      0.78       682\n",
      "           1       0.67      0.28      0.40       410\n",
      "\n",
      "    accuracy                           0.68      1092\n",
      "   macro avg       0.68      0.60      0.59      1092\n",
      "weighted avg       0.68      0.68      0.64      1092\n",
      "\n"
     ]
    }
   ],
   "source": [
    "cr = classification_report(y_test, y_pred)\n",
    "print(cr)"
   ]
  },
  {
   "cell_type": "markdown",
   "id": "8cecc129-2f74-4cb6-aa1c-1919d3cc7c68",
   "metadata": {},
   "source": [
    "After running examples using code from both resources only one produced readable results.  \n",
    "It appears the SVC 'kernel' option is most significant. The default 'rbf' increased the predicted  \n",
    "results from 60% yo 75% when compared to everything else I've tried.  \n",
    "I need to research this more.  \n",
    "I've yet to determine the best model and data preprocessing to utilize."
   ]
  },
  {
   "cell_type": "markdown",
   "id": "3850163c-c828-48be-8006-ac17921ef246",
   "metadata": {},
   "source": [
    "I reviewed the article on understanding the confusion matrix. Now I see that this model  \n",
    "was pretty good with predicting 'positive' results (204 true to 24 false) but  \n",
    "not good at predicting 'negative' results (108 false to 64 true)."
   ]
  },
  {
   "cell_type": "code",
   "execution_count": null,
   "id": "a51c09cf-32b8-4044-9ea2-b4307eea7a7e",
   "metadata": {},
   "outputs": [],
   "source": []
  },
  {
   "cell_type": "code",
   "execution_count": null,
   "id": "2b56e179-b95c-4521-af57-abe704cc9be2",
   "metadata": {},
   "outputs": [],
   "source": []
  }
 ],
 "metadata": {
  "kernelspec": {
   "display_name": "Python 3 (ipykernel)",
   "language": "python",
   "name": "python3"
  },
  "language_info": {
   "codemirror_mode": {
    "name": "ipython",
    "version": 3
   },
   "file_extension": ".py",
   "mimetype": "text/x-python",
   "name": "python",
   "nbconvert_exporter": "python",
   "pygments_lexer": "ipython3",
   "version": "3.11.6"
  }
 },
 "nbformat": 4,
 "nbformat_minor": 5
}
